{
 "cells": [
  {
   "cell_type": "markdown",
   "id": "03023cbc-87e8-436e-bd3f-5217c60743c8",
   "metadata": {},
   "source": [
    "# Q1. Create one variable containing following type of data:\n",
    "\n",
    "(i)\tstring\n",
    "\n",
    "(ii) list\n",
    "\n",
    "(iii) float\n",
    "\n",
    "(iv) tuple\n",
    "\n",
    "Ans:  apple <class 'str'>\n",
    "      [2, 3, 4] <class 'list'>\n",
    "      2.125 <class 'float'>\n",
    "      ('a', 'b') <class 'tuple'>\n"
   ]
  },
  {
   "cell_type": "code",
   "execution_count": 24,
   "id": "44e9349c-fd63-47d8-b554-e3ed894a36ed",
   "metadata": {},
   "outputs": [
    {
     "name": "stdout",
     "output_type": "stream",
     "text": [
      "apple <class 'str'>\n",
      "[2, 3, 4] <class 'list'>\n",
      "2.125 <class 'float'>\n",
      "('a', 'b') <class 'tuple'>\n"
     ]
    }
   ],
   "source": [
    "a=\"apple\",[2,3,4],2.125,('a','b')\n",
    "for i in a:\n",
    "    print(i,type(i))\n"
   ]
  },
  {
   "cell_type": "markdown",
   "id": "8f02b10a-df60-4ee0-80e7-19e2e283dc2e",
   "metadata": {},
   "source": [
    "# Q2. Given are some following variables containing data:\n",
    "\n",
    "(i)\tvar1 = ‘ ‘\n",
    "\n",
    "(ii) var2 = ‘[ DS , ML , Python]’\n",
    "\n",
    "(iii) var3 = [ ‘DS’ , ’ML’ , ‘Python’ ]\n",
    "\n",
    "(iv) var4 = 1.\n",
    "\n",
    "Ans: ‘ ‘<class 'str'>\n",
    "[DS,ML,Python] <class 'str'>\n",
    "['DS', 'ML', 'Python'] <class 'list'>\n",
    "1.0 <class 'float'>"
   ]
  },
  {
   "cell_type": "code",
   "execution_count": 25,
   "id": "78da1569-c212-4c6a-8f73-e0cab0ac5d4d",
   "metadata": {},
   "outputs": [
    {
     "name": "stdout",
     "output_type": "stream",
     "text": [
      " <class 'str'>\n",
      "[DS,ML,Python] <class 'str'>\n",
      "['DS', 'ML', 'Python'] <class 'list'>\n",
      "1.0 <class 'float'>\n"
     ]
    }
   ],
   "source": [
    "var1=''\n",
    "print(var1,type(var1))\n",
    "var2='[DS,ML,Python]'\n",
    "print(var2,type(var2))\n",
    "var3=['DS','ML','Python']\n",
    "print(var3,type(var3))\n",
    "var4=1.\n",
    "print(var4,type(var4))\n"
   ]
  },
  {
   "cell_type": "markdown",
   "id": "49dfcbe3-1ea9-4027-8df2-79505115d4e3",
   "metadata": {
    "tags": []
   },
   "source": [
    "# Q3. Explain the use of the following operators using an example:\n",
    "\n",
    "(i)\t/\n",
    "\n",
    "(ii)\t% \n",
    "\n",
    "(iii)\t//\n",
    "\n",
    "(iv)\t**\n",
    "\n",
    "Ans: / :  this is the division operator\n",
    "\n",
    "\t%  : this is the Modulus operator\n",
    "    \n",
    "    // : this is the Floor division operator\n",
    "\n",
    "\t** : this is the Exponentiation operator\n"
   ]
  },
  {
   "cell_type": "code",
   "execution_count": 26,
   "id": "6d772f49-c43a-4742-81fe-fadbefc33966",
   "metadata": {},
   "outputs": [
    {
     "name": "stdout",
     "output_type": "stream",
     "text": [
      "3.0\n",
      "this is the division operator\n"
     ]
    }
   ],
   "source": [
    "a=15\n",
    "b=5\n",
    "print (a/b)\n",
    "print(\"this is the division operator\")\n"
   ]
  },
  {
   "cell_type": "code",
   "execution_count": 27,
   "id": "0e843344-3606-4a7d-8c5f-5cef9484709f",
   "metadata": {},
   "outputs": [
    {
     "name": "stdout",
     "output_type": "stream",
     "text": [
      "0\n",
      "this is the Modulus operator\n"
     ]
    }
   ],
   "source": [
    "a=15\n",
    "b=5\n",
    "print (a%b)\n",
    "print(\"this is the Modulus operator\")"
   ]
  },
  {
   "cell_type": "code",
   "execution_count": 28,
   "id": "a19ec5a0-c807-4c8f-bca0-a80b9b94223f",
   "metadata": {},
   "outputs": [
    {
     "name": "stdout",
     "output_type": "stream",
     "text": [
      "3\n",
      "this is the Floor division operator\n"
     ]
    }
   ],
   "source": [
    "a=15\n",
    "b=5\n",
    "print (a//b)\n",
    "print(\"this is the Floor division operator\")"
   ]
  },
  {
   "cell_type": "code",
   "execution_count": 29,
   "id": "9d3161e6-fc05-46c7-b020-d74757a86e5b",
   "metadata": {},
   "outputs": [
    {
     "name": "stdout",
     "output_type": "stream",
     "text": [
      "8\n",
      "this is the Exponentiation operator\n"
     ]
    }
   ],
   "source": [
    "a=2\n",
    "b=3\n",
    "print (a**b)\n",
    "print(\"this is the Exponentiation operator\")"
   ]
  },
  {
   "cell_type": "markdown",
   "id": "2ad81e7e-b7b7-496f-897d-d0def7bffb8c",
   "metadata": {},
   "source": [
    "# Q4. Create a list of length 10 of your choice containing multiple types of data. Using for loop print the element and its data type.\n",
    "\n",
    "Ans:2 <class 'int'>\n",
    "3 <class 'int'>\n",
    "4 <class 'int'>\n",
    "5 <class 'int'>\n",
    "2.325 <class 'float'>\n",
    "True <class 'bool'>\n",
    "['a', 'b', 'c'] <class 'list'>\n",
    "money <class 'str'>\n",
    "('w', 't', 'u') <class 'tuple'>\n",
    "False <class 'bool'>"
   ]
  },
  {
   "cell_type": "code",
   "execution_count": 30,
   "id": "65800b1e-1e08-4889-b821-46a086f16a9b",
   "metadata": {},
   "outputs": [
    {
     "name": "stdout",
     "output_type": "stream",
     "text": [
      "2 <class 'int'>\n",
      "3 <class 'int'>\n",
      "4 <class 'int'>\n",
      "5 <class 'int'>\n",
      "2.325 <class 'float'>\n",
      "True <class 'bool'>\n",
      "['a', 'b', 'c'] <class 'list'>\n",
      "money <class 'str'>\n",
      "('w', 't', 'u') <class 'tuple'>\n",
      "False <class 'bool'>\n"
     ]
    }
   ],
   "source": [
    "l=[2,3,4,5,2.325,True,['a','b','c'],\"money\",(\"w\",\"t\",\"u\"),False]\n",
    "for a in l:\n",
    "    print(a,type(a))\n"
   ]
  },
  {
   "cell_type": "markdown",
   "id": "a46ca17a-7204-47b2-ad5b-fb39b388d50a",
   "metadata": {},
   "source": [
    "# Q5. Using a while loop, verify if the number A is purely divisible by number B and if so then how many times it can be divisible.\n",
    "\n",
    "Ans: Enter your First number,\n",
    " 100.\n",
    "Enter your Second number,\n",
    " 10.\n",
    "The First number is divisible by the Second number,\n",
    "The First number is divisile 2 times,\n",
    "The updated value of the number is 1."
   ]
  },
  {
   "cell_type": "code",
   "execution_count": 33,
   "id": "7aa94e99-6ffd-4608-8204-19ff25dc83c0",
   "metadata": {},
   "outputs": [
    {
     "name": "stdout",
     "output_type": "stream",
     "text": [
      "Enter your First number\n"
     ]
    },
    {
     "name": "stdin",
     "output_type": "stream",
     "text": [
      " 777\n"
     ]
    },
    {
     "name": "stdout",
     "output_type": "stream",
     "text": [
      "Enter your Second number\n"
     ]
    },
    {
     "name": "stdin",
     "output_type": "stream",
     "text": [
      " 7\n"
     ]
    },
    {
     "name": "stdout",
     "output_type": "stream",
     "text": [
      "The First number is divisible by the Second number\n",
      "The First number is divisile 1 times\n",
      "The updated value of the number is 111\n"
     ]
    }
   ],
   "source": [
    "print(\"Enter your First number\")\n",
    "a=int(input())\n",
    "\n",
    "print(\"Enter your Second number\")\n",
    "b=int(input())\n",
    "\n",
    "if b==0:\n",
    "    print(\"it cannot be divided by zero, please enter a new number \")\n",
    "else:\n",
    "    count=0\n",
    "    while a%b==0:\n",
    "        count += 1\n",
    "        a=a//b\n",
    "    if count>0:\n",
    "        print(\"The First number is divisible by the Second number\")\n",
    "        print(\"The First number is divisile\",count,\"times\")\n",
    "        print(\"The updated value of the number is\",a)\n",
    "    else:\n",
    "        print(\"The First number is not divisible by Second number\")\n"
   ]
  },
  {
   "cell_type": "markdown",
   "id": "a5b382e9-646b-416c-8f32-36f34c562aa1",
   "metadata": {},
   "source": [
    "# Q6. Create a list containing 25 int type data. Using for loop and if-else condition print if the element is divisible by 3 or not.\n",
    "\n",
    "Ans: It Has 25 int type data and it shows which are divisible or not divisible by 3."
   ]
  },
  {
   "cell_type": "code",
   "execution_count": 5,
   "id": "be32400e-7b37-4081-bca0-ccc130b5de2e",
   "metadata": {},
   "outputs": [
    {
     "name": "stdout",
     "output_type": "stream",
     "text": [
      "12 is divisible by 3\n",
      "24 is divisible by 3\n",
      "55 is not divisible by 3\n",
      "4 is not divisible by 3\n",
      "54 is divisible by 3\n",
      "54 is divisible by 3\n",
      "4884 is divisible by 3\n",
      "851 is not divisible by 3\n",
      "84 is divisible by 3\n",
      "1 is not divisible by 3\n",
      "841 is not divisible by 3\n",
      "6485 is not divisible by 3\n",
      "54 is divisible by 3\n",
      "51 is divisible by 3\n",
      "99 is divisible by 3\n",
      "212 is not divisible by 3\n",
      "2354 is not divisible by 3\n",
      "221 is not divisible by 3\n",
      "2548 is not divisible by 3\n",
      "4785 is divisible by 3\n",
      "6658 is not divisible by 3\n",
      "58 is not divisible by 3\n",
      "557 is not divisible by 3\n",
      "995 is not divisible by 3\n",
      "782 is not divisible by 3\n"
     ]
    }
   ],
   "source": [
    " l=[12,24,55,4,54,54,4884,851,84,1,841,6485,54,51,99,212,2354,221,2548,4785,6658,58,557,995,782]\n",
    "for i in l:\n",
    "    if i%3==0:\n",
    "        print(i,\"is divisible by 3\")\n",
    "    else:\n",
    "        print(i,\"is not divisible by 3\")\n"
   ]
  },
  {
   "cell_type": "markdown",
   "id": "ee1796c3-bbdc-4993-8484-71c3734496ec",
   "metadata": {},
   "source": [
    "# Q7. What do you understand about mutable and immutable data types? Give examples for both showing this property.\n",
    "\n",
    "Ans: Mutable data types are those that can be modified after they are created. This means that the value of a mutable obejct can be changed without creating a new object.\n",
    "\n",
    "Immutable data types are those that cannot be modified after they are created. This means that if the value of an immutable object, we need to create a new object with the desired value example of immutable data types are integer, floats, tuples.\n",
    "\n"
   ]
  },
  {
   "cell_type": "code",
   "execution_count": 13,
   "id": "47afe105-b611-4c81-a592-3532bf491d93",
   "metadata": {},
   "outputs": [
    {
     "name": "stdout",
     "output_type": "stream",
     "text": [
      "[2, 3, 4, 5, 6, 7, 8, 9]\n"
     ]
    }
   ],
   "source": [
    "Mutable=[2,3,4,5,6,7,8,9]\n",
    "print(Mutable)\n"
   ]
  },
  {
   "cell_type": "code",
   "execution_count": 18,
   "id": "40a9d368-66ef-49b6-88b3-3e12d6290ae2",
   "metadata": {},
   "outputs": [],
   "source": [
    "Mutable[2]=\"a\"\n"
   ]
  },
  {
   "cell_type": "code",
   "execution_count": 19,
   "id": "52d64d9e-16ce-4395-ac09-0343a52273f6",
   "metadata": {},
   "outputs": [
    {
     "name": "stdout",
     "output_type": "stream",
     "text": [
      "[2, 3, 'a', 5, 6, 7, 8, 9]\n"
     ]
    }
   ],
   "source": [
    "print(Mutable)"
   ]
  },
  {
   "cell_type": "code",
   "execution_count": 20,
   "id": "3f8356cd-6173-4faa-814b-d4793576646e",
   "metadata": {},
   "outputs": [],
   "source": [
    "Mutable.append(\"apple\")"
   ]
  },
  {
   "cell_type": "code",
   "execution_count": 21,
   "id": "64826a23-7e02-48e5-84bc-517bbaf27ee2",
   "metadata": {},
   "outputs": [
    {
     "name": "stdout",
     "output_type": "stream",
     "text": [
      "[2, 3, 'a', 5, 6, 7, 8, 9, 'apple']\n"
     ]
    }
   ],
   "source": [
    "print(Mutable)"
   ]
  },
  {
   "cell_type": "code",
   "execution_count": 22,
   "id": "8cdb44a9-43e4-4b8b-8d83-6eaf3b3c7ae7",
   "metadata": {},
   "outputs": [
    {
     "name": "stdout",
     "output_type": "stream",
     "text": [
      "money\n"
     ]
    }
   ],
   "source": [
    "Immutable=\"money\"\n",
    "print(Immutable)\n"
   ]
  },
  {
   "cell_type": "code",
   "execution_count": 23,
   "id": "af39c590-c198-4565-9918-ba87368f3547",
   "metadata": {},
   "outputs": [
    {
     "name": "stdout",
     "output_type": "stream",
     "text": [
      "money shot\n"
     ]
    }
   ],
   "source": [
    "nstr= Immutable + \" shot\"\n",
    "print(nstr)"
   ]
  },
  {
   "cell_type": "code",
   "execution_count": null,
   "id": "1435bd49-0bab-434f-8749-dac249576289",
   "metadata": {},
   "outputs": [],
   "source": []
  }
 ],
 "metadata": {
  "kernelspec": {
   "display_name": "Python 3 (ipykernel)",
   "language": "python",
   "name": "python3"
  },
  "language_info": {
   "codemirror_mode": {
    "name": "ipython",
    "version": 3
   },
   "file_extension": ".py",
   "mimetype": "text/x-python",
   "name": "python",
   "nbconvert_exporter": "python",
   "pygments_lexer": "ipython3",
   "version": "3.10.8"
  }
 },
 "nbformat": 4,
 "nbformat_minor": 5
}
